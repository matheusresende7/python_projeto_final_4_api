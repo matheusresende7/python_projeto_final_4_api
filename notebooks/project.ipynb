{
 "cells": [
  {
   "cell_type": "markdown",
   "metadata": {},
   "source": [
    "# Project"
   ]
  },
  {
   "cell_type": "markdown",
   "metadata": {},
   "source": [
    "### Importando as bibliotecas"
   ]
  },
  {
   "cell_type": "code",
   "execution_count": 1,
   "metadata": {},
   "outputs": [],
   "source": [
    "import sys\n",
    "sys.path.append('..')\n",
    "import pandas as pd\n",
    "import requests\n",
    "import pprint\n",
    "import params.consts as consts"
   ]
  },
  {
   "cell_type": "markdown",
   "metadata": {},
   "source": [
    "### Fazendo a requisição get para a API"
   ]
  },
  {
   "cell_type": "code",
   "execution_count": 2,
   "metadata": {},
   "outputs": [],
   "source": [
    "response = requests.get(consts.URL_API) # Fazendo uma requisição get para a API"
   ]
  },
  {
   "cell_type": "markdown",
   "metadata": {},
   "source": [
    "### Verificando o status code da API"
   ]
  },
  {
   "cell_type": "code",
   "execution_count": 3,
   "metadata": {},
   "outputs": [
    {
     "name": "stdout",
     "output_type": "stream",
     "text": [
      "Status Code: 200 - Ok\n",
      "\n",
      "A requisição foi bem sucedida.\n"
     ]
    }
   ],
   "source": [
    "if response.status_code == 200: # Criando uma condição para informar o status code da requisição da API\n",
    "    print('Status Code: 200 - Ok\\n\\nA requisição foi bem sucedida.')\n",
    "elif response.status_code == 404:\n",
    "    print('Status Code: 404 - Not Found.\\n\\nO servidor não encontrou uma representação atual do recurso solicitado.')\n",
    "else:\n",
    "    print(f'Status Code: {response.status_code}')"
   ]
  },
  {
   "cell_type": "markdown",
   "metadata": {},
   "source": [
    "### Verificando o tipo de dado retornado pela API"
   ]
  },
  {
   "cell_type": "code",
   "execution_count": 4,
   "metadata": {},
   "outputs": [
    {
     "data": {
      "text/plain": [
       "'application/json'"
      ]
     },
     "execution_count": 4,
     "metadata": {},
     "output_type": "execute_result"
    }
   ],
   "source": [
    "response.headers['Content-Type'] # Verificando o tipo de dado retornado pela API, geralmente em JSON"
   ]
  },
  {
   "cell_type": "markdown",
   "metadata": {},
   "source": [
    "### Armazenando o retorno em uma variável"
   ]
  },
  {
   "cell_type": "code",
   "execution_count": 5,
   "metadata": {},
   "outputs": [],
   "source": [
    "response_all = response.json() # Armazenando o retorno em uma variável"
   ]
  },
  {
   "cell_type": "markdown",
   "metadata": {},
   "source": [
    "### Verificando o tamanho do JSON retornado"
   ]
  },
  {
   "cell_type": "code",
   "execution_count": 6,
   "metadata": {},
   "outputs": [
    {
     "data": {
      "text/plain": [
       "250"
      ]
     },
     "execution_count": 6,
     "metadata": {},
     "output_type": "execute_result"
    }
   ],
   "source": [
    "len(response_all) # Verificando o tamanho do JSON retornado"
   ]
  },
  {
   "cell_type": "markdown",
   "metadata": {},
   "source": [
    "### Verificando as chaves do JSON retornado"
   ]
  },
  {
   "cell_type": "code",
   "execution_count": 7,
   "metadata": {},
   "outputs": [
    {
     "name": "stdout",
     "output_type": "stream",
     "text": [
      "name\n",
      "tld\n",
      "cca2\n",
      "ccn3\n",
      "cca3\n",
      "independent\n",
      "status\n",
      "unMember\n",
      "currencies\n",
      "idd\n",
      "capital\n",
      "altSpellings\n",
      "region\n",
      "languages\n",
      "translations\n",
      "latlng\n",
      "landlocked\n",
      "area\n",
      "demonyms\n",
      "flag\n",
      "maps\n",
      "population\n",
      "car\n",
      "timezones\n",
      "continents\n",
      "flags\n",
      "coatOfArms\n",
      "startOfWeek\n",
      "capitalInfo\n"
     ]
    }
   ],
   "source": [
    "for key in response_all[0].keys(): # Criando uma estrutura de repetição para listar as chaves do JSON retornado\n",
    "    print(key)"
   ]
  },
  {
   "cell_type": "markdown",
   "metadata": {},
   "source": [
    "### Verificando os dados retornados"
   ]
  },
  {
   "cell_type": "code",
   "execution_count": 8,
   "metadata": {},
   "outputs": [
    {
     "name": "stdout",
     "output_type": "stream",
     "text": [
      "{'altSpellings': ['GS', 'South Georgia and the South Sandwich Islands'],\n",
      " 'area': 3903.0,\n",
      " 'capital': ['King Edward Point'],\n",
      " 'capitalInfo': {'latlng': [-54.28, -36.5]},\n",
      " 'car': {'side': 'right', 'signs': ['']},\n",
      " 'cca2': 'GS',\n",
      " 'cca3': 'SGS',\n",
      " 'ccn3': '239',\n",
      " 'coatOfArms': {},\n",
      " 'continents': ['Antarctica'],\n",
      " 'currencies': {'SHP': {'name': 'Saint Helena pound', 'symbol': '£'}},\n",
      " 'demonyms': {'eng': {'f': 'South Georgian South Sandwich Islander',\n",
      "                      'm': 'South Georgian South Sandwich Islander'}},\n",
      " 'flag': '🇬🇸',\n",
      " 'flags': {'png': 'https://flagcdn.com/w320/gs.png',\n",
      "           'svg': 'https://flagcdn.com/gs.svg'},\n",
      " 'idd': {'root': '+5', 'suffixes': ['00']},\n",
      " 'independent': False,\n",
      " 'landlocked': False,\n",
      " 'languages': {'eng': 'English'},\n",
      " 'latlng': [-54.5, -37.0],\n",
      " 'maps': {'googleMaps': 'https://goo.gl/maps/mJzdaBwKBbm2B81q9',\n",
      "          'openStreetMaps': 'https://www.openstreetmap.org/relation/1983629'},\n",
      " 'name': {'common': 'South Georgia',\n",
      "          'nativeName': {'eng': {'common': 'South Georgia',\n",
      "                                 'official': 'South Georgia and the South '\n",
      "                                             'Sandwich Islands'}},\n",
      "          'official': 'South Georgia and the South Sandwich Islands'},\n",
      " 'population': 30,\n",
      " 'region': 'Antarctic',\n",
      " 'startOfWeek': 'monday',\n",
      " 'status': 'officially-assigned',\n",
      " 'timezones': ['UTC-02:00'],\n",
      " 'tld': ['.gs'],\n",
      " 'translations': {'ara': {'common': 'جورجيا الجنوبية',\n",
      "                          'official': 'جورجيا الجنوبية وجزر ساندوتش الجنوبية'},\n",
      "                  'bre': {'common': 'Georgia ar Su hag Inizi Sandwich ar Su',\n",
      "                          'official': 'Georgia ar Su hag Inizi Sandwich ar Su'},\n",
      "                  'ces': {'common': 'Jižní Georgie a Jižní Sandwichovy ostrovy',\n",
      "                          'official': 'Jižní Georgie a Jižní Sandwichovy '\n",
      "                                      'ostrovy'},\n",
      "                  'cym': {'common': 'South Georgia',\n",
      "                          'official': 'South Georgia and the South Sandwich '\n",
      "                                      'Islands'},\n",
      "                  'deu': {'common': 'Südgeorgien und die Südlichen '\n",
      "                                    'Sandwichinseln',\n",
      "                          'official': 'Südgeorgien und die Südlichen '\n",
      "                                      'Sandwichinseln'},\n",
      "                  'est': {'common': 'Lõuna-Georgia ja Lõuna-Sandwichi saared',\n",
      "                          'official': 'Lõuna-Georgia ja Lõuna-Sandwichi '\n",
      "                                      'saared'},\n",
      "                  'fin': {'common': 'Etelä-Georgia ja Eteläiset Sandwichsaaret',\n",
      "                          'official': 'Etelä-Georgia ja Eteläiset '\n",
      "                                      'Sandwichsaaret'},\n",
      "                  'fra': {'common': 'Géorgie du Sud-et-les Îles Sandwich du '\n",
      "                                    'Sud',\n",
      "                          'official': 'Géorgie du Sud et les îles Sandwich du '\n",
      "                                      'Sud'},\n",
      "                  'hrv': {'common': 'Južna Georgija i otočje Južni Sandwich',\n",
      "                          'official': 'Južna Džordžija i Otoci Južni Sendvič'},\n",
      "                  'hun': {'common': 'Déli-Georgia és Déli-Sandwich-szigetek',\n",
      "                          'official': 'Déli-Georgia és Déli-Sandwich-szigetek'},\n",
      "                  'ita': {'common': 'Georgia del Sud e Isole Sandwich '\n",
      "                                    'Meridionali',\n",
      "                          'official': 'Georgia del Sud e isole Sandwich del '\n",
      "                                      'Sud'},\n",
      "                  'jpn': {'common': 'サウスジョージア・サウスサンドウィッチ諸島',\n",
      "                          'official': 'サウスジョージア·サウスサンドウィッチ諸島'},\n",
      "                  'kor': {'common': '조지아', 'official': '조지아'},\n",
      "                  'nld': {'common': 'Zuid-Georgia en Zuidelijke '\n",
      "                                    'Sandwicheilanden',\n",
      "                          'official': 'Zuid-Georgië en de Zuidelijke '\n",
      "                                      'Sandwich-eilanden'},\n",
      "                  'per': {'common': 'جزایر جورجیای جنوبی و ساندویچ جنوبی',\n",
      "                          'official': 'جزایر جورجیای جنوبی و ساندویچ جنوبی'},\n",
      "                  'pol': {'common': 'Georgia Południowa i Sandwich Południowy',\n",
      "                          'official': 'Georgia Południowa i Sandwich '\n",
      "                                      'Południowy'},\n",
      "                  'por': {'common': 'Ilhas Geórgia do Sul e Sandwich do Sul',\n",
      "                          'official': 'Geórgia do Sul e Sandwich do Sul'},\n",
      "                  'rus': {'common': 'Южная Георгия и Южные Сандвичевы острова',\n",
      "                          'official': 'Южная Георгия и Южные Сандвичевы '\n",
      "                                      'острова'},\n",
      "                  'slk': {'common': 'Južná Georgia a Južné Sandwichove ostrovy',\n",
      "                          'official': 'Južná Georgia a Južné Sandwichove '\n",
      "                                      'ostrovy'},\n",
      "                  'spa': {'common': 'Islas Georgias del Sur y Sandwich del Sur',\n",
      "                          'official': 'Georgia del Sur y las Islas Sandwich '\n",
      "                                      'del Sur'},\n",
      "                  'srp': {'common': 'Јужна Џорџија и Јужна Сендвичка Острва',\n",
      "                          'official': 'Јужна Џорџија и Јужна Сендвичка Острва'},\n",
      "                  'swe': {'common': 'Sydgeorgien', 'official': 'Sydgeorgien'},\n",
      "                  'tur': {'common': 'Güney Georgia ve Güney Sandwich Adaları',\n",
      "                          'official': 'Güney Georgia ve Güney Sandwich '\n",
      "                                      'Adaları'},\n",
      "                  'urd': {'common': 'جنوبی جارجیا',\n",
      "                          'official': 'جنوبی جارجیا و جزائر جنوبی سینڈوچ'},\n",
      "                  'zho': {'common': '南乔治亚', 'official': '南乔治亚岛和南桑威奇群岛'}},\n",
      " 'unMember': False}\n"
     ]
    }
   ],
   "source": [
    "pprint.pprint(response_all[0]) # Verificando o primeiro json/dicionário retornado"
   ]
  },
  {
   "cell_type": "markdown",
   "metadata": {},
   "source": [
    "### Definindo as chaves que serão usadas para criar o dataset"
   ]
  },
  {
   "cell_type": "markdown",
   "metadata": {},
   "source": [
    "- area\n",
    "- capital\n",
    "- continents\n",
    "- idd\n",
    "- name\n",
    "- population"
   ]
  },
  {
   "cell_type": "markdown",
   "metadata": {},
   "source": [
    "### Otimizando a consulta à API para retornar apenas os dados que serão utilizados no dataset"
   ]
  },
  {
   "cell_type": "code",
   "execution_count": 9,
   "metadata": {},
   "outputs": [],
   "source": [
    "response = requests.get(consts.URL_API_FILTERED) # Fazendo uma requisição get para a API com filtros de somente os dados necessários"
   ]
  },
  {
   "cell_type": "markdown",
   "metadata": {},
   "source": [
    "### Verificando o status code da API"
   ]
  },
  {
   "cell_type": "code",
   "execution_count": 10,
   "metadata": {},
   "outputs": [
    {
     "name": "stdout",
     "output_type": "stream",
     "text": [
      "Status Code: 200 - Ok\n",
      "\n",
      "A requisição foi bem sucedida.\n"
     ]
    }
   ],
   "source": [
    "if response.status_code == 200: # Criando uma condição para informar o status code da requisição da API\n",
    "    print('Status Code: 200 - Ok\\n\\nA requisição foi bem sucedida.')\n",
    "elif response.status_code == 404:\n",
    "    print('Status Code: 404 - Not Found.\\n\\nO servidor não encontrou uma representação atual do recurso solicitado.')\n",
    "else:\n",
    "    print(f'Status Code: {response.status_code}')"
   ]
  },
  {
   "cell_type": "markdown",
   "metadata": {},
   "source": [
    "### Verificando o tipo de dado retornado pela API"
   ]
  },
  {
   "cell_type": "code",
   "execution_count": 11,
   "metadata": {},
   "outputs": [
    {
     "data": {
      "text/plain": [
       "'application/json'"
      ]
     },
     "execution_count": 11,
     "metadata": {},
     "output_type": "execute_result"
    }
   ],
   "source": [
    "response.headers['Content-Type'] # Verificando o tipo de dado retornado pela API, geralmente em JSON"
   ]
  },
  {
   "cell_type": "markdown",
   "metadata": {},
   "source": [
    "### Armazenando o retorno em uma variável"
   ]
  },
  {
   "cell_type": "code",
   "execution_count": 12,
   "metadata": {},
   "outputs": [],
   "source": [
    "response_all = response.json() # Armazenando o retorno em uma variável"
   ]
  },
  {
   "cell_type": "markdown",
   "metadata": {},
   "source": [
    "### Verificando o tamanho do JSON retornado"
   ]
  },
  {
   "cell_type": "code",
   "execution_count": 13,
   "metadata": {},
   "outputs": [
    {
     "data": {
      "text/plain": [
       "250"
      ]
     },
     "execution_count": 13,
     "metadata": {},
     "output_type": "execute_result"
    }
   ],
   "source": [
    "len(response_all) # Verificando o tamanho do JSON retornado"
   ]
  },
  {
   "cell_type": "markdown",
   "metadata": {},
   "source": [
    "### Verificando as chaves do JSON retornado"
   ]
  },
  {
   "cell_type": "code",
   "execution_count": 14,
   "metadata": {},
   "outputs": [
    {
     "name": "stdout",
     "output_type": "stream",
     "text": [
      "name\n",
      "idd\n",
      "capital\n",
      "area\n",
      "population\n",
      "continents\n"
     ]
    }
   ],
   "source": [
    "for key in response_all[0].keys(): # Criando uma estrutura de repetição para listar as chaves do JSON retornado\n",
    "    print(key)"
   ]
  },
  {
   "cell_type": "markdown",
   "metadata": {},
   "source": [
    "### Verificando os dados retornados"
   ]
  },
  {
   "cell_type": "code",
   "execution_count": 15,
   "metadata": {},
   "outputs": [
    {
     "name": "stdout",
     "output_type": "stream",
     "text": [
      "[{'area': 3903.0,\n",
      "  'capital': ['King Edward Point'],\n",
      "  'continents': ['Antarctica'],\n",
      "  'idd': {'root': '+5', 'suffixes': ['00']},\n",
      "  'name': {'common': 'South Georgia',\n",
      "           'nativeName': {'eng': {'common': 'South Georgia',\n",
      "                                  'official': 'South Georgia and the South '\n",
      "                                              'Sandwich Islands'}},\n",
      "           'official': 'South Georgia and the South Sandwich Islands'},\n",
      "  'population': 30},\n",
      " {'area': 344.0,\n",
      "  'capital': [\"St. George's\"],\n",
      "  'continents': ['North America'],\n",
      "  'idd': {'root': '+1', 'suffixes': ['473']},\n",
      "  'name': {'common': 'Grenada',\n",
      "           'nativeName': {'eng': {'common': 'Grenada', 'official': 'Grenada'}},\n",
      "           'official': 'Grenada'},\n",
      "  'population': 112519},\n",
      " {'area': 41284.0,\n",
      "  'capital': ['Bern'],\n",
      "  'continents': ['Europe'],\n",
      "  'idd': {'root': '+4', 'suffixes': ['1']},\n",
      "  'name': {'common': 'Switzerland',\n",
      "           'nativeName': {'fra': {'common': 'Suisse',\n",
      "                                  'official': 'Confédération suisse'},\n",
      "                          'gsw': {'common': 'Schweiz',\n",
      "                                  'official': 'Schweizerische '\n",
      "                                              'Eidgenossenschaft'},\n",
      "                          'ita': {'common': 'Svizzera',\n",
      "                                  'official': 'Confederazione Svizzera'},\n",
      "                          'roh': {'common': 'Svizra',\n",
      "                                  'official': 'Confederaziun svizra'}},\n",
      "           'official': 'Swiss Confederation'},\n",
      "  'population': 8654622}]\n"
     ]
    }
   ],
   "source": [
    "pprint.pprint(response_all[:3]) # Verificando os 3 primeiros json/dicionário retornados"
   ]
  },
  {
   "cell_type": "markdown",
   "metadata": {},
   "source": [
    "### Criando o dataset com os dados retornados"
   ]
  },
  {
   "cell_type": "code",
   "execution_count": 16,
   "metadata": {},
   "outputs": [
    {
     "data": {
      "text/html": [
       "<div>\n",
       "<style scoped>\n",
       "    .dataframe tbody tr th:only-of-type {\n",
       "        vertical-align: middle;\n",
       "    }\n",
       "\n",
       "    .dataframe tbody tr th {\n",
       "        vertical-align: top;\n",
       "    }\n",
       "\n",
       "    .dataframe thead th {\n",
       "        text-align: right;\n",
       "    }\n",
       "</style>\n",
       "<table border=\"1\" class=\"dataframe\">\n",
       "  <thead>\n",
       "    <tr style=\"text-align: right;\">\n",
       "      <th></th>\n",
       "      <th>name</th>\n",
       "      <th>idd</th>\n",
       "      <th>capital</th>\n",
       "      <th>area</th>\n",
       "      <th>population</th>\n",
       "      <th>continents</th>\n",
       "    </tr>\n",
       "  </thead>\n",
       "  <tbody>\n",
       "    <tr>\n",
       "      <th>0</th>\n",
       "      <td>{'common': 'South Georgia', 'official': 'South...</td>\n",
       "      <td>{'root': '+5', 'suffixes': ['00']}</td>\n",
       "      <td>[King Edward Point]</td>\n",
       "      <td>3903.0</td>\n",
       "      <td>30</td>\n",
       "      <td>[Antarctica]</td>\n",
       "    </tr>\n",
       "    <tr>\n",
       "      <th>1</th>\n",
       "      <td>{'common': 'Grenada', 'official': 'Grenada', '...</td>\n",
       "      <td>{'root': '+1', 'suffixes': ['473']}</td>\n",
       "      <td>[St. George's]</td>\n",
       "      <td>344.0</td>\n",
       "      <td>112519</td>\n",
       "      <td>[North America]</td>\n",
       "    </tr>\n",
       "    <tr>\n",
       "      <th>2</th>\n",
       "      <td>{'common': 'Switzerland', 'official': 'Swiss C...</td>\n",
       "      <td>{'root': '+4', 'suffixes': ['1']}</td>\n",
       "      <td>[Bern]</td>\n",
       "      <td>41284.0</td>\n",
       "      <td>8654622</td>\n",
       "      <td>[Europe]</td>\n",
       "    </tr>\n",
       "    <tr>\n",
       "      <th>3</th>\n",
       "      <td>{'common': 'Sierra Leone', 'official': 'Republ...</td>\n",
       "      <td>{'root': '+2', 'suffixes': ['32']}</td>\n",
       "      <td>[Freetown]</td>\n",
       "      <td>71740.0</td>\n",
       "      <td>7976985</td>\n",
       "      <td>[Africa]</td>\n",
       "    </tr>\n",
       "    <tr>\n",
       "      <th>4</th>\n",
       "      <td>{'common': 'Hungary', 'official': 'Hungary', '...</td>\n",
       "      <td>{'root': '+3', 'suffixes': ['6']}</td>\n",
       "      <td>[Budapest]</td>\n",
       "      <td>93028.0</td>\n",
       "      <td>9749763</td>\n",
       "      <td>[Europe]</td>\n",
       "    </tr>\n",
       "  </tbody>\n",
       "</table>\n",
       "</div>"
      ],
      "text/plain": [
       "                                                name  \\\n",
       "0  {'common': 'South Georgia', 'official': 'South...   \n",
       "1  {'common': 'Grenada', 'official': 'Grenada', '...   \n",
       "2  {'common': 'Switzerland', 'official': 'Swiss C...   \n",
       "3  {'common': 'Sierra Leone', 'official': 'Republ...   \n",
       "4  {'common': 'Hungary', 'official': 'Hungary', '...   \n",
       "\n",
       "                                   idd              capital     area  \\\n",
       "0   {'root': '+5', 'suffixes': ['00']}  [King Edward Point]   3903.0   \n",
       "1  {'root': '+1', 'suffixes': ['473']}       [St. George's]    344.0   \n",
       "2    {'root': '+4', 'suffixes': ['1']}               [Bern]  41284.0   \n",
       "3   {'root': '+2', 'suffixes': ['32']}           [Freetown]  71740.0   \n",
       "4    {'root': '+3', 'suffixes': ['6']}           [Budapest]  93028.0   \n",
       "\n",
       "   population       continents  \n",
       "0          30     [Antarctica]  \n",
       "1      112519  [North America]  \n",
       "2     8654622         [Europe]  \n",
       "3     7976985         [Africa]  \n",
       "4     9749763         [Europe]  "
      ]
     },
     "execution_count": 16,
     "metadata": {},
     "output_type": "execute_result"
    }
   ],
   "source": [
    "df = pd.DataFrame(response_all) # Criando o dataset com os dados retornados\n",
    "\n",
    "df.head() # Exibindo o dataset"
   ]
  },
  {
   "cell_type": "markdown",
   "metadata": {},
   "source": [
    "### Criando uma lista com os dados organizados"
   ]
  },
  {
   "cell_type": "code",
   "execution_count": 17,
   "metadata": {},
   "outputs": [
    {
     "data": {
      "text/plain": [
       "[{'country': 'South Georgia',\n",
       "  'capital': 'King Edward Point',\n",
       "  'continents': 'Antarctica',\n",
       "  'area': 3903.0,\n",
       "  'population': 30,\n",
       "  'idd': '+5'},\n",
       " {'country': 'Grenada',\n",
       "  'capital': \"St. George's\",\n",
       "  'continents': 'North America',\n",
       "  'area': 344.0,\n",
       "  'population': 112519,\n",
       "  'idd': '+1'},\n",
       " {'country': 'Switzerland',\n",
       "  'capital': 'Bern',\n",
       "  'continents': 'Europe',\n",
       "  'area': 41284.0,\n",
       "  'population': 8654622,\n",
       "  'idd': '+4'},\n",
       " {'country': 'Sierra Leone',\n",
       "  'capital': 'Freetown',\n",
       "  'continents': 'Africa',\n",
       "  'area': 71740.0,\n",
       "  'population': 7976985,\n",
       "  'idd': '+2'},\n",
       " {'country': 'Hungary',\n",
       "  'capital': 'Budapest',\n",
       "  'continents': 'Europe',\n",
       "  'area': 93028.0,\n",
       "  'population': 9749763,\n",
       "  'idd': '+3'}]"
      ]
     },
     "execution_count": 17,
     "metadata": {},
     "output_type": "execute_result"
    }
   ],
   "source": [
    "paises = [] # Criando uma lista vazia para receber os países\n",
    "\n",
    "for pais in response_all: # Criando uma estrutura de repetição para extrair os dados e gerar um dataset otimizado\n",
    "    item = {\n",
    "        'country': pais['name']['common'],\n",
    "        'capital': pais['capital'][0] if 'capital' in pais and len(pais['capital']) > 0 else 'N/A',\n",
    "        'continents': pais['continents'][0],\n",
    "        'area': pais['area'],\n",
    "        'population': pais['population'],\n",
    "        'idd': pais['idd']['root'],\n",
    "    }\n",
    "    paises.append(item) # Adicionando o item a lista de países\n",
    "\n",
    "(paises)[:5] # Exibindo os dados dos países"
   ]
  },
  {
   "cell_type": "markdown",
   "metadata": {},
   "source": [
    "### Otimizando o dataset com os dados organizados"
   ]
  },
  {
   "cell_type": "code",
   "execution_count": 18,
   "metadata": {},
   "outputs": [
    {
     "data": {
      "text/html": [
       "<div>\n",
       "<style scoped>\n",
       "    .dataframe tbody tr th:only-of-type {\n",
       "        vertical-align: middle;\n",
       "    }\n",
       "\n",
       "    .dataframe tbody tr th {\n",
       "        vertical-align: top;\n",
       "    }\n",
       "\n",
       "    .dataframe thead th {\n",
       "        text-align: right;\n",
       "    }\n",
       "</style>\n",
       "<table border=\"1\" class=\"dataframe\">\n",
       "  <thead>\n",
       "    <tr style=\"text-align: right;\">\n",
       "      <th></th>\n",
       "      <th>country</th>\n",
       "      <th>capital</th>\n",
       "      <th>continents</th>\n",
       "      <th>area</th>\n",
       "      <th>population</th>\n",
       "      <th>idd</th>\n",
       "    </tr>\n",
       "  </thead>\n",
       "  <tbody>\n",
       "    <tr>\n",
       "      <th>0</th>\n",
       "      <td>South Georgia</td>\n",
       "      <td>King Edward Point</td>\n",
       "      <td>Antarctica</td>\n",
       "      <td>3903.0</td>\n",
       "      <td>30</td>\n",
       "      <td>+5</td>\n",
       "    </tr>\n",
       "    <tr>\n",
       "      <th>1</th>\n",
       "      <td>Grenada</td>\n",
       "      <td>St. George's</td>\n",
       "      <td>North America</td>\n",
       "      <td>344.0</td>\n",
       "      <td>112519</td>\n",
       "      <td>+1</td>\n",
       "    </tr>\n",
       "    <tr>\n",
       "      <th>2</th>\n",
       "      <td>Switzerland</td>\n",
       "      <td>Bern</td>\n",
       "      <td>Europe</td>\n",
       "      <td>41284.0</td>\n",
       "      <td>8654622</td>\n",
       "      <td>+4</td>\n",
       "    </tr>\n",
       "    <tr>\n",
       "      <th>3</th>\n",
       "      <td>Sierra Leone</td>\n",
       "      <td>Freetown</td>\n",
       "      <td>Africa</td>\n",
       "      <td>71740.0</td>\n",
       "      <td>7976985</td>\n",
       "      <td>+2</td>\n",
       "    </tr>\n",
       "    <tr>\n",
       "      <th>4</th>\n",
       "      <td>Hungary</td>\n",
       "      <td>Budapest</td>\n",
       "      <td>Europe</td>\n",
       "      <td>93028.0</td>\n",
       "      <td>9749763</td>\n",
       "      <td>+3</td>\n",
       "    </tr>\n",
       "  </tbody>\n",
       "</table>\n",
       "</div>"
      ],
      "text/plain": [
       "         country            capital     continents     area  population idd\n",
       "0  South Georgia  King Edward Point     Antarctica   3903.0          30  +5\n",
       "1        Grenada       St. George's  North America    344.0      112519  +1\n",
       "2    Switzerland               Bern         Europe  41284.0     8654622  +4\n",
       "3   Sierra Leone           Freetown         Africa  71740.0     7976985  +2\n",
       "4        Hungary           Budapest         Europe  93028.0     9749763  +3"
      ]
     },
     "execution_count": 18,
     "metadata": {},
     "output_type": "execute_result"
    }
   ],
   "source": [
    "df = pd.DataFrame(paises) # Criando o dataset com os dados retornados\n",
    "\n",
    "df.head() # Exibindo o início do dataset"
   ]
  },
  {
   "cell_type": "code",
   "execution_count": 19,
   "metadata": {},
   "outputs": [
    {
     "data": {
      "text/html": [
       "<div>\n",
       "<style scoped>\n",
       "    .dataframe tbody tr th:only-of-type {\n",
       "        vertical-align: middle;\n",
       "    }\n",
       "\n",
       "    .dataframe tbody tr th {\n",
       "        vertical-align: top;\n",
       "    }\n",
       "\n",
       "    .dataframe thead th {\n",
       "        text-align: right;\n",
       "    }\n",
       "</style>\n",
       "<table border=\"1\" class=\"dataframe\">\n",
       "  <thead>\n",
       "    <tr style=\"text-align: right;\">\n",
       "      <th></th>\n",
       "      <th>country</th>\n",
       "      <th>capital</th>\n",
       "      <th>continents</th>\n",
       "      <th>area</th>\n",
       "      <th>population</th>\n",
       "      <th>idd</th>\n",
       "    </tr>\n",
       "  </thead>\n",
       "  <tbody>\n",
       "    <tr>\n",
       "      <th>245</th>\n",
       "      <td>Belgium</td>\n",
       "      <td>Brussels</td>\n",
       "      <td>Europe</td>\n",
       "      <td>30528.0</td>\n",
       "      <td>11555997</td>\n",
       "      <td>+3</td>\n",
       "    </tr>\n",
       "    <tr>\n",
       "      <th>246</th>\n",
       "      <td>Israel</td>\n",
       "      <td>Jerusalem</td>\n",
       "      <td>Asia</td>\n",
       "      <td>20770.0</td>\n",
       "      <td>9216900</td>\n",
       "      <td>+9</td>\n",
       "    </tr>\n",
       "    <tr>\n",
       "      <th>247</th>\n",
       "      <td>New Zealand</td>\n",
       "      <td>Wellington</td>\n",
       "      <td>Oceania</td>\n",
       "      <td>270467.0</td>\n",
       "      <td>5084300</td>\n",
       "      <td>+6</td>\n",
       "    </tr>\n",
       "    <tr>\n",
       "      <th>248</th>\n",
       "      <td>Nicaragua</td>\n",
       "      <td>Managua</td>\n",
       "      <td>North America</td>\n",
       "      <td>130373.0</td>\n",
       "      <td>6624554</td>\n",
       "      <td>+5</td>\n",
       "    </tr>\n",
       "    <tr>\n",
       "      <th>249</th>\n",
       "      <td>Anguilla</td>\n",
       "      <td>The Valley</td>\n",
       "      <td>North America</td>\n",
       "      <td>91.0</td>\n",
       "      <td>13452</td>\n",
       "      <td>+1</td>\n",
       "    </tr>\n",
       "  </tbody>\n",
       "</table>\n",
       "</div>"
      ],
      "text/plain": [
       "         country     capital     continents      area  population idd\n",
       "245      Belgium    Brussels         Europe   30528.0    11555997  +3\n",
       "246       Israel   Jerusalem           Asia   20770.0     9216900  +9\n",
       "247  New Zealand  Wellington        Oceania  270467.0     5084300  +6\n",
       "248    Nicaragua     Managua  North America  130373.0     6624554  +5\n",
       "249     Anguilla  The Valley  North America      91.0       13452  +1"
      ]
     },
     "execution_count": 19,
     "metadata": {},
     "output_type": "execute_result"
    }
   ],
   "source": [
    "df.tail() # Exibindo o fim do dataset"
   ]
  },
  {
   "cell_type": "markdown",
   "metadata": {},
   "source": [
    "### Salvando o dataset"
   ]
  },
  {
   "cell_type": "code",
   "execution_count": 20,
   "metadata": {},
   "outputs": [],
   "source": [
    "df.to_csv(consts.DATASET, index=False) # Salvando o dataset em formato csv"
   ]
  }
 ],
 "metadata": {
  "kernelspec": {
   "display_name": "Python 3",
   "language": "python",
   "name": "python3"
  },
  "language_info": {
   "codemirror_mode": {
    "name": "ipython",
    "version": 3
   },
   "file_extension": ".py",
   "mimetype": "text/x-python",
   "name": "python",
   "nbconvert_exporter": "python",
   "pygments_lexer": "ipython3",
   "version": "3.12.4"
  }
 },
 "nbformat": 4,
 "nbformat_minor": 2
}
